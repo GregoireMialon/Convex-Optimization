{
 "cells": [
  {
   "cell_type": "markdown",
   "metadata": {},
   "source": [
    "# Convex Optimization - Homework 3"
   ]
  },
  {
   "cell_type": "code",
   "execution_count": 17,
   "metadata": {
    "collapsed": true
   },
   "outputs": [],
   "source": [
    "%matplotlib inline\n",
    "%config InlineBackend.figure_format = 'retina'"
   ]
  },
  {
   "cell_type": "markdown",
   "metadata": {},
   "source": [
    "## 1. Interior Points Method"
   ]
  },
  {
   "cell_type": "markdown",
   "metadata": {},
   "source": [
    "- Implement the functions phi(x,t,Q,p,A,b), grad(x,t,Q,p,A,b)and hess(x,t,Q,p,A,b) which return respectively the function value, gradient and hessian of φt(x) at point x."
   ]
  },
  {
   "cell_type": "code",
   "execution_count": 10,
   "metadata": {
    "collapsed": true
   },
   "outputs": [],
   "source": [
    "import numpy as np                                                                                 \n",
    "import pandas as pd                                                                                \n",
    "import sklearn as sk                                                                               \n",
    "from sklearn.model_selection import train_test_split                                               \n",
    "import matplotlib.pyplot as plt                                                                    \n",
    "                                                                                                   \n",
    "def log_barrier(x):                                                                                \n",
    "                                                                                                   \n",
    "    x_log = np.log(x)                                                                              \n",
    "                                                                                                   \n",
    "    return(np.sum(x_log))                                                                          \n",
    "                                                                                                   \n",
    "def grad_log_barrier(A, b, x):                                                                     \n",
    "                                                                                                                                                      \n",
    "    result = np.zeros(A.shape[1])                                                                  \n",
    "                                                                                                                                                         \n",
    "    for i in range(A.shape[0]):                                                                    \n",
    "                                                                                                   \n",
    "        coeff = 1 / (b[i] - np.dot(A[i,:], x))                                                     \n",
    "        result += coeff * A[i,:]                                                                   \n",
    "                                                                                                   \n",
    "    return(result)                                                                                 \n",
    "                                                                                                   \n",
    "def hess_log_barrier(A, b, x):                                                                     \n",
    "                                                                                                   \n",
    "    result = np.zeros([A.shape[1], A.shape[1]])                                                    \n",
    "                                                                                                   \n",
    "    for i in range(A.shape[0]):                                                                    \n",
    "                   \n",
    "        coeff = 1 / ((b[i] - np.dot(A[i,:], x)) ** 2)                                              \n",
    "                                                                                                   \n",
    "        result += coeff * np.outer(A[i,:], A[i,:])                                                 \n",
    "                                                                                                   \n",
    "    return(result) \n",
    "\n",
    "def phi(x, t, Q, p, A, b):                                    \n",
    "                                                              \n",
    "    quadratic = (1 / 2) * np.dot(x, np.dot(Q,x)) + np.dot(p,x)\n",
    "    barrier = log_barrier(b - np.dot(A, x))                   \n",
    "                                                              \n",
    "    return(t * quadratic + barrier)                           \n",
    "                                                              \n",
    "def grad(x, t, Q, p, A, b):                                   \n",
    "                                                              \n",
    "    #print(Q,x, p)                                            \n",
    "                                                              \n",
    "    quadratic = np.dot(Q,x) + p                               \n",
    "    barrier = grad_log_barrier(A, b, x)                       \n",
    "                                                              \n",
    "    return(t * quadratic + barrier)                           \n",
    "                                                              \n",
    "def hess(x, t, Q, p, A, b):                                   \n",
    "                                                              \n",
    "    quadratic = Q                                             \n",
    "    barrier = hess_log_barrier(A, b, x)                       \n",
    "                                                              \n",
    "    return( t * quadratic + barrier)                          "
   ]
  },
  {
   "cell_type": "markdown",
   "metadata": {},
   "source": [
    "## 2. Newton Method"
   ]
  },
  {
   "cell_type": "markdown",
   "metadata": {},
   "source": [
    "- Implement the function [xnew,gap] = dampedNewtonStep(x,f,g,h), which compute the damped Newton step at point x. Assume the argument f is a function which takes input x and returns φt(x) (the same for g and h for the gradient and the hessian). The output gap is the estimated gap between φt(xnew) and minx φt(x) (see lecture notes). Note: this function should call one and only one time g(x) and h(x).\n",
    "\n",
    "- Implement the function [xstar,xhist] = dampedNewton(x0,f,g,h,tol) which min- imizes the function f starting at x0 using the damped Newton algorithm. The output xstar is the estimated minimum, which satisfies φt(xstar) − minx φt(x) ≤ tol. The output xhist contains the history of all Newton steps.\n",
    "\n",
    "- Implement a function [xstar,xhist] = newtonLS(x0,f,g,h,tol) which minimizes the function f starting at x0 using the Newton algorithm with backtracking line-search (see lecture notes)."
   ]
  },
  {
   "cell_type": "code",
   "execution_count": 42,
   "metadata": {},
   "outputs": [],
   "source": [
    "def dampedNewtonStep(x,f,g,h):                                         \n",
    "                                                                       \n",
    "    grad = g(x)                                                        \n",
    "    hess = h(x)                                                        \n",
    "    hess = hess + 0.01 * np.identity(hess.shape[0])                    \n",
    "    hess = np.array(hess, dtype = float)                               \n",
    "    #print(hess)                                                       \n",
    "    hess_inv = np.linalg.inv(hess)                                     \n",
    "                                                                       \n",
    "    decrement = np.dot(grad, np.dot(hess_inv,grad))                    \n",
    "                                                                       \n",
    "    xnew = x - ( 1/ (1 + np.sqrt(decrement))) * np.dot(hess_inv, grad) \n",
    "                                                                       \n",
    "    gap = decrement / 2                                                \n",
    "                                                                       \n",
    "    return(xnew, gap)                                                  \n",
    "                                                                       \n",
    "def dampedNewton(x0,f,g,h,tol):                                        \n",
    "                                                                       \n",
    "    x = x0                                                             \n",
    "    xhist = np.array(x0)                                               \n",
    "                                                                       \n",
    "    gap = 1                                                            \n",
    "                                                                       \n",
    "    while gap > tol:                                                   \n",
    "        xnew, gap = dampedNewtonStep(x,f,g,h)                          \n",
    "        x = xnew                                                       \n",
    "        xhist = np.append(xhist, x)                                    \n",
    "    xstar = x                                                          \n",
    "                                                                       \n",
    "    return(xstar, xhist)                                               \n",
    "                                                                       \n",
    "def check_feasible_p(w,z,tau,X,Y):                                     \n",
    "                                                                       \n",
    "    if (z<0).any():                                                  \n",
    "          return(False)                                                                                                                 \n",
    "    elif ((Y*(w.T.dot(X))<(np.ones(z.shape(0)) - z)).any()):           \n",
    "          return(False)                                                \n",
    "                                                                       \n",
    "    return(True)                                                     \n",
    "                                                                       \n",
    "def check_feasible_d(lmbda,tau,X,Y):\n",
    "    \n",
    "    return ((lmbda>=0).all() and (lmbda<=1/(tau*X.shape[1])).all())\n",
    "    \n",
    "def newtonLS(x0,f,g,h,tol,solver,tau,X,y):                                                 \n",
    "                                                                            \n",
    "    x = x0                                                                  \n",
    "    xhist = np.array(x0)                                                    \n",
    "                                                                            \n",
    "    gap = 1                                                                 \n",
    "                                                                            \n",
    "    alpha = 0.2                                                             \n",
    "    beta = 0.5                                                              \n",
    "                                                                            \n",
    "    while gap > tol:                                                        \n",
    "                                                                            \n",
    "        grad = g(x)\n",
    "        hess = h(x) + 0.01 * np.identity(h(x).shape[0])\n",
    "        hess_inv = np.linalg.inv(hess)                                      \n",
    "        nstep = np.dot(hess_inv, grad)                                      \n",
    "        gap = np.dot(grad, nstep) / 2                                       \n",
    "                                                                            \n",
    "        ### line-search                                                     \n",
    "        t = 1                                                               \n",
    "        criterion = f(x - t * nstep) - f(x) + alpha * t * 2 * gap > 0       \n",
    "        if solver == 'primal':                                                                   \n",
    "            while criterion == True or check_feasible_p(x - t * nstep,tau,X,y) == False:\n",
    "                t = beta * t\n",
    "        elif solver == 'dual':\n",
    "            while criterion == True or check_feasible_d(x - t * nstep, tau,X,y) == False:\n",
    "                t = beta * t\n",
    "                                                                            \n",
    "        x = x - t * nstep                                                   \n",
    "        xhist = np.append(xhist, x)                                         \n",
    "                                                                            \n",
    "    xstar = x                                                               \n",
    "                                                                            \n",
    "    return(xstar, xhist)                                                    "
   ]
  },
  {
   "cell_type": "markdown",
   "metadata": {},
   "source": [
    "## 3. Support Vector Machine Problem"
   ]
  },
  {
   "cell_type": "markdown",
   "metadata": {},
   "source": [
    "Implement the barrier method(using logarithmic barrier) to solve (SVM-P) and (SVM-D) given a data matrix X = (xT1 ,...,xTn) ∈ Rn×d, a vector of labels y ∈ {−1,1}n and a regularization parameter τ > 0 by :\n",
    "\n",
    "- Coding the generic functions [Q,p,A,b] = transform svm primal(tau,X,y) and [Q,p,A,b] = transform svm dual(tau,X,y), which writes the primal and the dual SVM problem as particular instances of the quadratic problem (QP).\n",
    "- Coding a function [x sol,xhist] = barr method(Q,p,A,b,x 0,mu,tol) which implements the barrier method to solve QP given the inputs (Q, p, A, b) and the initial point x 0 (which should be strictly feasible). The input mu is the increment of the barrier at each iteration (see lecture notes). The output x sol must be feasible and satisfies φ(x sol) − φ(x∗) ≤ tol where x∗ is the solution of (QP). The function also outputs xhist, the history of all Newton steps."
   ]
  },
  {
   "cell_type": "code",
   "execution_count": 35,
   "metadata": {
    "collapsed": true
   },
   "outputs": [],
   "source": [
    "def transform_svm_primal(tau,X,y):                                   \n",
    "                                                                     \n",
    "    n = X.shape[0]                                                   \n",
    "    d = X.shape[1]                                                   \n",
    "                                                                     \n",
    "    p = np.zeros(X.shape[1] + X.shape[0])                            \n",
    "    for i in range(X.shape[1], X.shape[1] + X.shape[0] ):            \n",
    "        p[i] = 1 / (tau * n)                                         \n",
    "                                                                     \n",
    "    Q = np.zeros([n+d, n+d])                                         \n",
    "    for i in range(d):                                               \n",
    "        Q[i,i] = 1                                                   \n",
    "    #print(Q)                                                        \n",
    "                                                                     \n",
    "    b = np.zeros(2 * X.shape[0])                                     \n",
    "    for i in range(X.shape[0], 2 * X.shape[0]):                      \n",
    "        b[i] = - 1                                                   \n",
    "                                                                     \n",
    "    # Define A, à vérifier                                           \n",
    "    A = np.zeros((2 * n, n + d))                                     \n",
    "                                                                     \n",
    "    for i in range(n):                                               \n",
    "        for j in range(d):                                           \n",
    "            A[i, j] = y[i] * X[i, j]                                 \n",
    "        for j in range(n):                                           \n",
    "            A[i, j + d] = -1                                         \n",
    "    for i in range(n):                                               \n",
    "        A[n + i, d + i] = -1                                         \n",
    "                                                                     \n",
    "    return(Q, p , A, b)                                              \n",
    "                                                                     \n",
    "def transform_svm_dual(tau,X,y):                                     \n",
    "                                                                     \n",
    "    Y = np.diag(y)                                                   \n",
    "    XY = np.dot(X.T, Y)                                              \n",
    "    Q = np.dot(XY.T,XY)                                              \n",
    "                                                                     \n",
    "                                                                     \n",
    "                                                                     \n",
    "    p = - np.ones(X.shape[0])                                        \n",
    "                                                                     \n",
    "    A_1 = - np.eye(X.shape[0])                                       \n",
    "    A_2 = np.eye(X.shape[0])                                         \n",
    "    A = np.concatenate((A_1, A_2), axis=0)                           \n",
    "                                                                     \n",
    "    b = np.zeros(2 * X.shape[0])                                     \n",
    "    for i in range(X.shape[0], 2 * X.shape[0]):                      \n",
    "        b[i] = 1 / (tau * X.shape[0])                                \n",
    "                                                                     \n",
    "    return(Q, p , A, b)\n",
    "\n",
    "def barr_method(Q,p,A,b,x_0,mu,tol):                                                                \n",
    "                                                                                                    \n",
    "    t = 1                                                                                           \n",
    "    criterion = 10000                                                                               \n",
    "    xhist = [x_0]                                                                                   \n",
    "    x = x_0                                                                                         \n",
    "                                                                                                    \n",
    "    while criterion > tol:                                                                          \n",
    "                                                                                                    \n",
    "        # centering step                                                                            \n",
    "                                                                                                    \n",
    "        # Declare f as an anonymous function which takes one # input x, and returns phi(x,t,Q,p,A,b)\n",
    "        f = lambda x: phi(x, t, Q, p, A, b);                                                        \n",
    "        g = lambda x: grad(x, t, Q, p, A, b);  # same                                               \n",
    "        h = lambda x: hess(x, t, Q, p, A, b);  # same                                               \n",
    "                                                                                                    \n",
    "        x, xhist_d = dampedNewton(x,f,g,h,tol)                                                      \n",
    "                                                                                                    \n",
    "        # update                                                                                                                                                                              \n",
    "        xhist = np.append(xhist,[x], axis = 0)                                                      \n",
    "                                                                                                    \n",
    "        # stopping criterion                                                                        \n",
    "        criterion = b.shape[0] / t                                                                  \n",
    "                                                                                                    \n",
    "        # increase t                                                                                \n",
    "        t = t * mu                                                                                  \n",
    "                                                                                                    \n",
    "    x_sol = x                                                                                       \n",
    "                                                                                                    \n",
    "    return(x_sol, xhist)                                                                            "
   ]
  },
  {
   "cell_type": "markdown",
   "metadata": {},
   "source": [
    "- Use the Iris dataset (https://archive.ics.uci.edu/ml/datasets/iris) to test your code and try to separate the last two classes, i.e., Iris-versicolor versus Iris-virginica. Try different values of τ and measure out-of-sample performance by learning the classifier on 80% of the dataset. Add one dimension to your data points in order to account for the offset if your data is not centered"
   ]
  },
  {
   "cell_type": "code",
   "execution_count": 36,
   "metadata": {
    "collapsed": true
   },
   "outputs": [],
   "source": [
    "### YOU'RE GOING TO NEED TO USE YOUR OWN PATH TO THE IRIS DATASET HERE.\n",
    "input_file = '/Users/gregoire/Desktop/mva/tutorials/iris-species/iris.csv'             \n",
    "                                                                                       \n",
    "dataset = pd.read_csv(input_file)                                                      \n",
    "dataset = dataset.drop('Id', axis = 1)                                                 \n",
    "dataset = dataset.drop(dataset[dataset.Species == 'Iris-setosa'].index)                \n",
    "                                                                                       \n",
    "                                                                                       \n",
    "dataset['Label'] = pd.DataFrame(np.zeros(dataset.shape[0]))                            \n",
    "                                                                                       \n",
    "dataset_array = np.array(dataset)                                                      \n",
    "                                                                                       \n",
    "for i in range(dataset_array.shape[0]):                                                \n",
    "    if dataset_array[i,4] == 'Iris-virginica':                                         \n",
    "        dataset_array[i,5] = 1                                                         \n",
    "    elif dataset_array[i,4] == 'Iris-versicolor':                                      \n",
    "        dataset_array[i,5] = -1                                                        \n",
    "                                                                                       \n",
    "dataset = pd.DataFrame(dataset_array)                                                  \n",
    "dataset = dataset.drop(4, axis = 1)                                                    \n",
    "# data is standardized                                                                 \n",
    "dataset = (dataset - dataset.mean()) / dataset.std()                                   \n",
    "dataset['ord'] = pd.DataFrame(np.ones(dataset.shape[0]))                               \n",
    "                                                                                       \n",
    "                                                                                       \n",
    "data = np.array(dataset)                                                               \n",
    "                                                                                       \n",
    "X, X_test, y, y_test = train_test_split(data[:,[0,1,2,3,5]], data[:,4], test_size= 0.2)"
   ]
  },
  {
   "cell_type": "markdown",
   "metadata": {},
   "source": [
    "Here we implement primal and dual solvers as well as classifiers."
   ]
  },
  {
   "cell_type": "code",
   "execution_count": 37,
   "metadata": {},
   "outputs": [
    {
     "name": "stdout",
     "output_type": "stream",
     "text": [
      "Prediction with primal : 1.0\n",
      "Prediction with dual: 2.0\n",
      "Tau : 0.1\n",
      "Classification error for the primal : 0.0\n",
      "Classification error for the dual : 3.0\n",
      "Tau : 1\n",
      "Classification error for the primal : 1.0\n",
      "Classification error for the dual : 2.0\n",
      "Tau : 10\n",
      "Classification error for the primal : 1.0\n",
      "Classification error for the dual : 1.0\n",
      "Tau : 100\n",
      "Classification error for the primal : 1.0\n",
      "Classification error for the dual : 1.0\n",
      "Tau : 1000\n",
      "Classification error for the primal : 1.0\n",
      "Classification error for the dual : 1.0\n",
      "Tau : 10000\n",
      "Classification error for the primal : 1.0\n",
      "Classification error for the dual : 1.0\n"
     ]
    }
   ],
   "source": [
    "def primal_solver(tau, mu):                                           \n",
    "                                                                      \n",
    "    Q, p, A, b = transform_svm_primal(tau, X, y)                      \n",
    "    # generating feasible point                                       \n",
    "    x_0 = np.zeros(X.shape[0] + X.shape[1])                           \n",
    "    for i in range(X.shape[0]):                                       \n",
    "        x_0[i] = 2                                                    \n",
    "                                                                      \n",
    "    x_sol, xhist = barr_method(Q, p, A, b, x_0, mu, 0.1 )             \n",
    "                                                                      \n",
    "    return (x_sol, xhist)                                             \n",
    "                                                                      \n",
    "#x_sol, xhist = primal_solver(1)                                      \n",
    "                                                                      \n",
    "def dual_solver(tau, mu):                                             \n",
    "                                                                      \n",
    "    Q, p, A, b = transform_svm_dual(tau, X, y)                        \n",
    "    n = X.shape[0]                                                    \n",
    "    # generating feasible point                                       \n",
    "    x_0 = np.zeros(n)                                                 \n",
    "    for i in range(n):                                                \n",
    "        x_0[i] = 1 / (2 * tau * n)                                    \n",
    "                                                                      \n",
    "    x_sol, xhist = barr_method(Q, p, A, b, x_0, mu, 0.1)              \n",
    "                                                                      \n",
    "    return (x_sol, xhist)                                             \n",
    "                                                                      \n",
    "# here we test the solutions we get on our iris-dataset               \n",
    "                                                                      \n",
    "def predict_primal(X, y, tau, mu):                                    \n",
    "                                                                      \n",
    "    n = X.shape[0]                                                    \n",
    "    d = X.shape[1]                                                    \n",
    "    pred = np.zeros(n)                                                \n",
    "    x, xhist = primal_solver(tau, mu)                                 \n",
    "    w = np.zeros(d)                                                   \n",
    "    z = np.zeros(n)                                                   \n",
    "    for i in range(d):                                                \n",
    "        w[i] = x[i]                                                   \n",
    "    for i in range(n):                                                \n",
    "        z[i] = x[i + d]                                               \n",
    "    for i in range(n):                                                \n",
    "        if np.sign(np.dot(X[i,:],w)) != - np.sign(y[i]):              \n",
    "            pred[i] = 1                                               \n",
    "    classif_error = np.sum(pred)                                      \n",
    "                                                                      \n",
    "    return(classif_error)                                             \n",
    "                                                                      \n",
    "print('Prediction with primal :', predict_primal(X_test, y_test, 1, 20))\n",
    "\n",
    "def predict_dual(X,y,tau, mu):                                                         \n",
    "                                                                                       \n",
    "    n = X.shape[0]                                                                     \n",
    "    d = X.shape[1]                                                                     \n",
    "    pred = np.zeros(n)                                                                 \n",
    "                                                                                       \n",
    "    w = np.zeros(d)                                                                    \n",
    "                                                                                       \n",
    "    l, lhist = dual_solver(tau, mu)                                                    \n",
    "                                                                                       \n",
    "    for i in range(n):                                                                 \n",
    "        w = w + l[i] * y[i] * X[i,:]                                                   \n",
    "    for i in range(n):                                                                 \n",
    "        if np.sign(np.dot(X[i,:],w)) != np.sign(y[i]):                                 \n",
    "            pred[i] = 1                                                                \n",
    "    classif_error = np.sum(pred)                                                       \n",
    "                                                                                       \n",
    "    return(classif_error)                                                              \n",
    "                                                                                       \n",
    "print('Prediction with dual:', predict_dual(X_test, y_test, 1, 20))                       \n",
    "                                                                                       \n",
    "for tau in (0.1,1,10,100,1000,10000):                                                     \n",
    "    print('Tau :', tau)                                                               \n",
    "    print('Classification error for the primal :', predict_primal(X_test,y_test,tau, 20)) \n",
    "    print('Classification error for the dual :', predict_dual(X_test, y_test, tau, 20))   \n",
    "                                                                                       \n",
    "# TO DO : Test line-search                                                             "
   ]
  },
  {
   "cell_type": "markdown",
   "metadata": {},
   "source": [
    "Both dual and primal solution do well on the iris dataset. The regularization (the bigger tau, the more we regularize) does not really change the result. The error is slightly slower with less regularization which could also mean over-fitting."
   ]
  },
  {
   "cell_type": "markdown",
   "metadata": {},
   "source": [
    "- Plot the duality gap versus iterations (using the damped Newton Method) for the primal and dual problem in semilog-scale for different values of the barrier method parameter μ = 2, 15, 50, 100 and comment the results. Compare the performance with the line-search strategy. Hint: Use the fact that any primal solution is an upper bound for the dual problem and vice-versa."
   ]
  },
  {
   "cell_type": "markdown",
   "metadata": {},
   "source": [
    "Here we tried to solve our primal and dual problem via Newton Line Search (The check_feasible methods were missing, we did not implement it by lack of time)."
   ]
  },
  {
   "cell_type": "code",
   "execution_count": 43,
   "metadata": {},
   "outputs": [
    {
     "name": "stderr",
     "output_type": "stream",
     "text": [
      "/Users/gregoire/anaconda/lib/python3.6/site-packages/ipykernel_launcher.py:9: RuntimeWarning: invalid value encountered in log\n",
      "  if __name__ == '__main__':\n"
     ]
    },
    {
     "ename": "TypeError",
     "evalue": "check_feasible_p() missing 1 required positional argument: 'Y'",
     "output_type": "error",
     "traceback": [
      "\u001b[0;31m---------------------------------------------------------------------------\u001b[0m",
      "\u001b[0;31mTypeError\u001b[0m                                 Traceback (most recent call last)",
      "\u001b[0;32m<ipython-input-43-b4da0eec85f9>\u001b[0m in \u001b[0;36m<module>\u001b[0;34m()\u001b[0m\n\u001b[1;32m     42\u001b[0m     \u001b[0;32mreturn\u001b[0m \u001b[0;34m(\u001b[0m\u001b[0mx_sol\u001b[0m\u001b[0;34m,\u001b[0m \u001b[0mxhist\u001b[0m\u001b[0;34m)\u001b[0m\u001b[0;34m\u001b[0m\u001b[0m\n\u001b[1;32m     43\u001b[0m \u001b[0;34m\u001b[0m\u001b[0m\n\u001b[0;32m---> 44\u001b[0;31m \u001b[0mx_sol\u001b[0m\u001b[0;34m,\u001b[0m \u001b[0mxhist\u001b[0m \u001b[0;34m=\u001b[0m \u001b[0mprimal_solver_LS\u001b[0m\u001b[0;34m(\u001b[0m\u001b[0;36m1\u001b[0m\u001b[0;34m,\u001b[0m \u001b[0;36m20\u001b[0m\u001b[0;34m)\u001b[0m\u001b[0;34m\u001b[0m\u001b[0m\n\u001b[0m",
      "\u001b[0;32m<ipython-input-43-b4da0eec85f9>\u001b[0m in \u001b[0;36mprimal_solver_LS\u001b[0;34m(tau, mu)\u001b[0m\n\u001b[1;32m     38\u001b[0m         \u001b[0mx_0\u001b[0m\u001b[0;34m[\u001b[0m\u001b[0mi\u001b[0m\u001b[0;34m]\u001b[0m \u001b[0;34m=\u001b[0m \u001b[0;36m2\u001b[0m\u001b[0;34m\u001b[0m\u001b[0m\n\u001b[1;32m     39\u001b[0m \u001b[0;34m\u001b[0m\u001b[0m\n\u001b[0;32m---> 40\u001b[0;31m     \u001b[0mx_sol\u001b[0m\u001b[0;34m,\u001b[0m \u001b[0mxhist\u001b[0m \u001b[0;34m=\u001b[0m \u001b[0mbarr_method_LS\u001b[0m\u001b[0;34m(\u001b[0m\u001b[0mQ\u001b[0m\u001b[0;34m,\u001b[0m \u001b[0mp\u001b[0m\u001b[0;34m,\u001b[0m \u001b[0mA\u001b[0m\u001b[0;34m,\u001b[0m \u001b[0mb\u001b[0m\u001b[0;34m,\u001b[0m \u001b[0mx_0\u001b[0m\u001b[0;34m,\u001b[0m \u001b[0mmu\u001b[0m\u001b[0;34m,\u001b[0m \u001b[0;36m0.1\u001b[0m\u001b[0;34m,\u001b[0m \u001b[0;34m'primal'\u001b[0m\u001b[0;34m,\u001b[0m\u001b[0mtau\u001b[0m\u001b[0;34m,\u001b[0m \u001b[0mX\u001b[0m\u001b[0;34m,\u001b[0m \u001b[0my\u001b[0m\u001b[0;34m)\u001b[0m\u001b[0;34m\u001b[0m\u001b[0m\n\u001b[0m\u001b[1;32m     41\u001b[0m \u001b[0;34m\u001b[0m\u001b[0m\n\u001b[1;32m     42\u001b[0m     \u001b[0;32mreturn\u001b[0m \u001b[0;34m(\u001b[0m\u001b[0mx_sol\u001b[0m\u001b[0;34m,\u001b[0m \u001b[0mxhist\u001b[0m\u001b[0;34m)\u001b[0m\u001b[0;34m\u001b[0m\u001b[0m\n",
      "\u001b[0;32m<ipython-input-43-b4da0eec85f9>\u001b[0m in \u001b[0;36mbarr_method_LS\u001b[0;34m(Q, p, A, b, x_0, mu, tol, solver, tau, X, y)\u001b[0m\n\u001b[1;32m     15\u001b[0m         \u001b[0mh\u001b[0m \u001b[0;34m=\u001b[0m \u001b[0;32mlambda\u001b[0m \u001b[0mx\u001b[0m\u001b[0;34m:\u001b[0m \u001b[0mhess\u001b[0m\u001b[0;34m(\u001b[0m\u001b[0mx\u001b[0m\u001b[0;34m,\u001b[0m \u001b[0mt\u001b[0m\u001b[0;34m,\u001b[0m \u001b[0mQ\u001b[0m\u001b[0;34m,\u001b[0m \u001b[0mp\u001b[0m\u001b[0;34m,\u001b[0m \u001b[0mA\u001b[0m\u001b[0;34m,\u001b[0m \u001b[0mb\u001b[0m\u001b[0;34m)\u001b[0m\u001b[0;34m;\u001b[0m  \u001b[0;31m# same\u001b[0m\u001b[0;34m\u001b[0m\u001b[0m\n\u001b[1;32m     16\u001b[0m \u001b[0;34m\u001b[0m\u001b[0m\n\u001b[0;32m---> 17\u001b[0;31m         \u001b[0mx\u001b[0m\u001b[0;34m,\u001b[0m \u001b[0mxhist_d\u001b[0m \u001b[0;34m=\u001b[0m \u001b[0mnewtonLS\u001b[0m\u001b[0;34m(\u001b[0m\u001b[0mx\u001b[0m\u001b[0;34m,\u001b[0m\u001b[0mf\u001b[0m\u001b[0;34m,\u001b[0m\u001b[0mg\u001b[0m\u001b[0;34m,\u001b[0m\u001b[0mh\u001b[0m\u001b[0;34m,\u001b[0m\u001b[0mtol\u001b[0m\u001b[0;34m,\u001b[0m\u001b[0msolver\u001b[0m\u001b[0;34m,\u001b[0m\u001b[0mtau\u001b[0m\u001b[0;34m,\u001b[0m\u001b[0mX\u001b[0m\u001b[0;34m,\u001b[0m\u001b[0my\u001b[0m\u001b[0;34m)\u001b[0m\u001b[0;34m\u001b[0m\u001b[0m\n\u001b[0m\u001b[1;32m     18\u001b[0m \u001b[0;34m\u001b[0m\u001b[0m\n\u001b[1;32m     19\u001b[0m         \u001b[0;31m# update\u001b[0m\u001b[0;34m\u001b[0m\u001b[0;34m\u001b[0m\u001b[0m\n",
      "\u001b[0;32m<ipython-input-42-29f5ea2af342>\u001b[0m in \u001b[0;36mnewtonLS\u001b[0;34m(x0, f, g, h, tol, solver, tau, X, y)\u001b[0m\n\u001b[1;32m     66\u001b[0m         \u001b[0mcriterion\u001b[0m \u001b[0;34m=\u001b[0m \u001b[0mf\u001b[0m\u001b[0;34m(\u001b[0m\u001b[0mx\u001b[0m \u001b[0;34m-\u001b[0m \u001b[0mt\u001b[0m \u001b[0;34m*\u001b[0m \u001b[0mnstep\u001b[0m\u001b[0;34m)\u001b[0m \u001b[0;34m-\u001b[0m \u001b[0mf\u001b[0m\u001b[0;34m(\u001b[0m\u001b[0mx\u001b[0m\u001b[0;34m)\u001b[0m \u001b[0;34m+\u001b[0m \u001b[0malpha\u001b[0m \u001b[0;34m*\u001b[0m \u001b[0mt\u001b[0m \u001b[0;34m*\u001b[0m \u001b[0;36m2\u001b[0m \u001b[0;34m*\u001b[0m \u001b[0mgap\u001b[0m \u001b[0;34m>\u001b[0m \u001b[0;36m0\u001b[0m\u001b[0;34m\u001b[0m\u001b[0m\n\u001b[1;32m     67\u001b[0m         \u001b[0;32mif\u001b[0m \u001b[0msolver\u001b[0m \u001b[0;34m==\u001b[0m \u001b[0;34m'primal'\u001b[0m\u001b[0;34m:\u001b[0m\u001b[0;34m\u001b[0m\u001b[0m\n\u001b[0;32m---> 68\u001b[0;31m             \u001b[0;32mwhile\u001b[0m \u001b[0mcriterion\u001b[0m \u001b[0;34m==\u001b[0m \u001b[0;32mTrue\u001b[0m \u001b[0;32mor\u001b[0m \u001b[0mcheck_feasible_p\u001b[0m\u001b[0;34m(\u001b[0m\u001b[0mx\u001b[0m \u001b[0;34m-\u001b[0m \u001b[0mt\u001b[0m \u001b[0;34m*\u001b[0m \u001b[0mnstep\u001b[0m\u001b[0;34m,\u001b[0m\u001b[0mtau\u001b[0m\u001b[0;34m,\u001b[0m\u001b[0mX\u001b[0m\u001b[0;34m,\u001b[0m\u001b[0my\u001b[0m\u001b[0;34m)\u001b[0m \u001b[0;34m==\u001b[0m \u001b[0;32mFalse\u001b[0m\u001b[0;34m:\u001b[0m\u001b[0;34m\u001b[0m\u001b[0m\n\u001b[0m\u001b[1;32m     69\u001b[0m                 \u001b[0mt\u001b[0m \u001b[0;34m=\u001b[0m \u001b[0mbeta\u001b[0m \u001b[0;34m*\u001b[0m \u001b[0mt\u001b[0m\u001b[0;34m\u001b[0m\u001b[0m\n\u001b[1;32m     70\u001b[0m         \u001b[0;32melif\u001b[0m \u001b[0msolver\u001b[0m \u001b[0;34m==\u001b[0m \u001b[0;34m'dual'\u001b[0m\u001b[0;34m:\u001b[0m\u001b[0;34m\u001b[0m\u001b[0m\n",
      "\u001b[0;31mTypeError\u001b[0m: check_feasible_p() missing 1 required positional argument: 'Y'"
     ]
    }
   ],
   "source": [
    "### DOES NOT WORK\n",
    "def barr_method_LS(Q,p,A,b,x_0,mu,tol,solver,tau, X, y):                                                                \n",
    "                                                                                                    \n",
    "    t = 1                                                                                           \n",
    "    criterion = 10000                                                                               \n",
    "    xhist = [x_0]                                                                                   \n",
    "    x = x_0                                                                                         \n",
    "                                                                                                    \n",
    "    while criterion > tol:                                                                          \n",
    "                                                                                                    \n",
    "        # centering step                                                                            \n",
    "                                                                                                    \n",
    "        # Declare f as an anonymous function which takes one # input x, and returns phi(x,t,Q,p,A,b)\n",
    "        f = lambda x: phi(x, t, Q, p, A, b);                                                        \n",
    "        g = lambda x: grad(x, t, Q, p, A, b);  # same                                               \n",
    "        h = lambda x: hess(x, t, Q, p, A, b);  # same                                               \n",
    "                                                                                                    \n",
    "        x, xhist_d = newtonLS(x,f,g,h,tol,solver,tau,X,y)                                                      \n",
    "                                                                                                    \n",
    "        # update                                                                                                                                                                              \n",
    "        xhist = np.append(xhist,[x], axis = 0)                                                      \n",
    "                                                                                                    \n",
    "        # stopping criterion                                                                        \n",
    "        criterion = b.shape[0] / t                                                                  \n",
    "                                                                                                    \n",
    "        # increase t                                                                                \n",
    "        t = t * mu                                                                                  \n",
    "                                                                                                    \n",
    "    x_sol = x                                                                                       \n",
    "                                                                                                    \n",
    "    return(x_sol, xhist)\n",
    "\n",
    "def primal_solver_LS(tau, mu):                                           \n",
    "                                                                      \n",
    "    Q, p, A, b = transform_svm_primal(tau, X, y)                      \n",
    "    # generating feasible point                                       \n",
    "    x_0 = np.zeros(X.shape[0] + X.shape[1])                           \n",
    "    for i in range(X.shape[0]):                                       \n",
    "        x_0[i] = 2                                                    \n",
    "                                                                      \n",
    "    x_sol, xhist = barr_method_LS(Q, p, A, b, x_0, mu, 0.1, 'primal',tau, X, y)             \n",
    "                                                                      \n",
    "    return (x_sol, xhist)                                             \n",
    "                                                                      \n",
    "x_sol, xhist = primal_solver_LS(1, 20)"
   ]
  },
  {
   "cell_type": "code",
   "execution_count": 21,
   "metadata": {},
   "outputs": [
    {
     "data": {
      "image/png": "[encoded data removed]",
      "text/plain": [
       "<matplotlib.figure.Figure at 0x1170d1710>"
      ]
     },
     "metadata": {
      "image/png": {
       "height": 265,
       "width": 390
      }
     },
     "output_type": "display_data"
    },
    {
     "data": {
      "text/plain": [
       "<matplotlib.figure.Figure at 0x117673940>"
      ]
     },
     "metadata": {},
     "output_type": "display_data"
    },
    {
     "data": {
      "text/plain": [
       "()"
      ]
     },
     "execution_count": 21,
     "metadata": {},
     "output_type": "execute_result"
    }
   ],
   "source": [
    "def phi_nob(x, Q, p):                                         \n",
    "                                                              \n",
    "    quadratic = (1 / 2) * np.dot(x, np.dot(Q,x)) + np.dot(p,x)\n",
    "                                                              \n",
    "    return(quadratic)                                         \n",
    "                                                              \n",
    "def plot_d_gap(tau):                                          \n",
    "                                                              \n",
    "    mu = (2, 15, 50, 100)                                     \n",
    "                                                              \n",
    "    for m in mu:                                              \n",
    "                                                              \n",
    "        p, phist = primal_solver(tau, m)                      \n",
    "        d, dhist = dual_solver(tau,m)                         \n",
    "                                                              \n",
    "        #print(phist, dhist)                                  \n",
    "        Q_p, p_p, A_p, b_p = transform_svm_primal(tau,X,y)    \n",
    "        f_p = lambda x: phi_nob(x, Q_p, p_p);                 \n",
    "        Q_d, p_d, A_d, b_d = transform_svm_dual(tau,X,y)      \n",
    "        f_d = lambda x: phi_nob(x, Q_d, p_d);                 \n",
    "                                                              \n",
    "        seq = np.zeros(min(len(phist),len(dhist)))            \n",
    "                                                              \n",
    "        for i in range(min(len(phist),len(dhist))):           \n",
    "                                                              \n",
    "            seq[i] = f_p(phist[i]) - f_d(dhist[i])            \n",
    "                                                              \n",
    "        plt.plot(seq, '-', label = \"mu ={0}\".format(m))       \n",
    "        plt.legend()\n",
    "        \n",
    "                                                        \n",
    "    \n",
    "    plt.xscale('log')                                         \n",
    "    plt.ylabel('Duality gap')                                 \n",
    "    plt.xlabel('Iteration')\n",
    "    plt.show()                                                \n",
    "                                                              \n",
    "    return()                                                  \n",
    "                                                              \n",
    "plot_d_gap(1)                                                 "
   ]
  },
  {
   "cell_type": "markdown",
   "metadata": {},
   "source": [
    "The bigger mu, the less iterations it takes. Yet, one should keep in mind that a bigger mu implies more inner iterations, i.e Newton iterations."
   ]
  },
  {
   "cell_type": "code",
   "execution_count": null,
   "metadata": {
    "collapsed": true
   },
   "outputs": [],
   "source": []
  }
 ],
 "metadata": {
  "kernelspec": {
   "display_name": "Python 3",
   "language": "python",
   "name": "python3"
  },
  "language_info": {
   "codemirror_mode": {
    "name": "ipython",
    "version": 3
   },
   "file_extension": ".py",
   "mimetype": "text/x-python",
   "name": "python",
   "nbconvert_exporter": "python",
   "pygments_lexer": "ipython3",
   "version": "3.6.1"
  }
 },
 "nbformat": 4,
 "nbformat_minor": 2
}
